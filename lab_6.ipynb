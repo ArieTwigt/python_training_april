{
 "cells": [
  {
   "cell_type": "code",
   "execution_count": 4,
   "metadata": {},
   "outputs": [
    {
     "data": {
      "text/plain": [
       "['a', 'b', 'c', 'd', 'e']"
      ]
     },
     "execution_count": 4,
     "metadata": {},
     "output_type": "execute_result"
    }
   ],
   "source": [
    "# loops, meerdere letters tegelijk toevoegen\n",
    "letters_list = ['a', 'b', 'c']\n",
    "\n",
    "# append multiple letters\n",
    "letters_list.append('d')\n",
    "letters_list.append('e')\n",
    "\n",
    "letters_list"
   ]
  },
  {
   "cell_type": "code",
   "execution_count": 5,
   "metadata": {},
   "outputs": [
    {
     "data": {
      "text/plain": [
       "['A', 'B', 'C']"
      ]
     },
     "execution_count": 5,
     "metadata": {},
     "output_type": "execute_result"
    }
   ],
   "source": [
    "# add new list with uppercases\n",
    "letters_list = ['a', 'b', 'c', 'd', 'e', 'f']\n",
    "letters_upper_list = []\n",
    "\n",
    "# iterate through the letters\n",
    "for letter in letters_list:\n",
    "    letter_upper = letter.upper()\n",
    "    letters_upper_list.append(letter_upper)\n",
    "\n",
    "# show the list with letters\n",
    "letters_upper_list  \n",
    "\n"
   ]
  },
  {
   "cell_type": "code",
   "execution_count": 10,
   "metadata": {},
   "outputs": [
    {
     "data": {
      "text/plain": [
       "['b',\n",
       " 'c',\n",
       " 'd',\n",
       " 'f',\n",
       " 'g',\n",
       " 'h',\n",
       " 'j',\n",
       " 'k',\n",
       " 'l',\n",
       " 'm',\n",
       " 'n',\n",
       " 'p',\n",
       " 'q',\n",
       " 'r',\n",
       " 's',\n",
       " 't',\n",
       " 'v',\n",
       " 'w',\n",
       " 'x',\n",
       " 'y',\n",
       " 'z']"
      ]
     },
     "execution_count": 10,
     "metadata": {},
     "output_type": "execute_result"
    }
   ],
   "source": [
    "# loops combined with conditional statements\n",
    "import string\n",
    "\n",
    "# get all letters from the alphabeth\n",
    "all_letters = string.ascii_lowercase\n",
    "\n",
    "# define the vowels\n",
    "vowels = 'aeoui'\n",
    "\n",
    "# initiate the empty list that will contain the non-vowel letters\n",
    "letters_non_vowels_list = []\n",
    "\n",
    "# iterate through all the letters\n",
    "for letter in all_letters:\n",
    "    if not letter in vowels:\n",
    "        letters_non_vowels_list.append(letter)\n",
    "\n",
    "# show the result\n",
    "letters_non_vowels_list"
   ]
  },
  {
   "cell_type": "code",
   "execution_count": 9,
   "metadata": {},
   "outputs": [
    {
     "data": {
      "text/plain": [
       "'ABCDEFGHIJKLMNOPQRSTUVWXYZ'"
      ]
     },
     "execution_count": 9,
     "metadata": {},
     "output_type": "execute_result"
    }
   ],
   "source": []
  },
  {
   "cell_type": "code",
   "execution_count": null,
   "metadata": {},
   "outputs": [],
   "source": []
  }
 ],
 "metadata": {
  "kernelspec": {
   "display_name": "Python 3",
   "language": "python",
   "name": "python3"
  },
  "language_info": {
   "codemirror_mode": {
    "name": "ipython",
    "version": 3
   },
   "file_extension": ".py",
   "mimetype": "text/x-python",
   "name": "python",
   "nbconvert_exporter": "python",
   "pygments_lexer": "ipython3",
   "version": "3.9.6"
  }
 },
 "nbformat": 4,
 "nbformat_minor": 2
}
