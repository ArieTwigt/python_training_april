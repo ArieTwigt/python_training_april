{
 "cells": [
  {
   "cell_type": "code",
   "execution_count": 4,
   "metadata": {},
   "outputs": [],
   "source": []
  },
  {
   "cell_type": "code",
   "execution_count": 5,
   "metadata": {},
   "outputs": [
    {
     "data": {
      "text/plain": [
       "datetime.date(2024, 4, 3)"
      ]
     },
     "execution_count": 5,
     "metadata": {},
     "output_type": "execute_result"
    }
   ],
   "source": []
  },
  {
   "cell_type": "code",
   "execution_count": 13,
   "metadata": {},
   "outputs": [
    {
     "data": {
      "text/plain": [
       "273"
      ]
     },
     "execution_count": 13,
     "metadata": {},
     "output_type": "execute_result"
    }
   ],
   "source": [
    "# Assignment 1: Assign a variable that holds the number of days until your next birthday\n",
    "# define the date of today\n",
    "from datetime import date\n",
    "\n",
    "# define the date of today\n",
    "today_date = date.today()\n",
    "\n",
    "# define the birthday\n",
    "next_birthday = date(2025, 1, 1)\n",
    "\n",
    "# calculate the days until the next birthday\n",
    "days_to_birthday_delta = next_birthday - today_date\n",
    "\n",
    "# get the days (integer)\n",
    "days_to_birthday = days_to_birthday_delta.days\n",
    "\n",
    "days_to_birthday\n"
   ]
  },
  {
   "cell_type": "code",
   "execution_count": 15,
   "metadata": {},
   "outputs": [
    {
     "data": {
      "text/plain": [
       "78.53981633974483"
      ]
     },
     "execution_count": 15,
     "metadata": {},
     "output_type": "execute_result"
    }
   ],
   "source": [
    "# Assignment 2\n",
    "import math\n",
    "\n",
    "# diameter\n",
    "diameter = 10\n",
    "\n",
    "# calculate the radius\n",
    "radius = diameter / 2 \n",
    "\n",
    "# calculate the size\n",
    "size = math.pow(radius, 2) * math.pi\n",
    "\n",
    "# show the size\n",
    "size"
   ]
  },
  {
   "cell_type": "code",
   "execution_count": 36,
   "metadata": {},
   "outputs": [
    {
     "data": {
      "text/plain": [
       "['hello.py', 'lab_3.ipynb', 'lab_2.py', '.git', 'lab_2.ipynb', 'lab_4.ipynb']"
      ]
     },
     "execution_count": 36,
     "metadata": {},
     "output_type": "execute_result"
    }
   ],
   "source": [
    "# Assignments 3\n",
    "import os\n",
    "\n",
    "# show the files in the current directory\n",
    "current_files = os.listdir()\n",
    "\n",
    "current_files"
   ]
  },
  {
   "cell_type": "code",
   "execution_count": 37,
   "metadata": {},
   "outputs": [
    {
     "name": "stdout",
     "output_type": "stream",
     "text": [
      "Created folder\n"
     ]
    }
   ],
   "source": [
    "# Assignment 4\n",
    "folder_name = 'our_functions'\n",
    "\n",
    "if folder_name in current_files:\n",
    "    print(\"Already exists\")\n",
    "else:\n",
    "    os.mkdir(\"our_functions\")\n",
    "    print(\"Created folder\")\n"
   ]
  },
  {
   "cell_type": "code",
   "execution_count": 39,
   "metadata": {},
   "outputs": [],
   "source": [
    "# make folder and sub-folders\n",
    "num_sub_folders = 10\n",
    "\n",
    "for i in range(0, 9):\n",
    "    os.makedirs(f\"folder/sub_folder/sub_solder_{i}\")"
   ]
  },
  {
   "cell_type": "code",
   "execution_count": 40,
   "metadata": {},
   "outputs": [],
   "source": [
    "names_list = ['Dirk', 'Piet', 'Jaap', 'Gerrit']\n",
    "\n",
    "# create a folder for every username\n",
    "for name in names_list:\n",
    "    os.makedirs(f\"user_data/{name}\")"
   ]
  },
  {
   "cell_type": "code",
   "execution_count": 44,
   "metadata": {},
   "outputs": [],
   "source": [
    "from datetime import date, timedelta\n",
    "import os\n",
    "\n",
    "# date of today\n",
    "today_date = date.today()\n",
    "\n",
    "num_days = 10\n",
    "\n",
    "for i in range(0, num_days):\n",
    "    next_date = today_date + timedelta(days=i)\n",
    "    next_date_str = str(next_date).replace(\"-\", \"\")\n",
    "    os.makedirs(f\"date_data/{next_date_str}\")\n"
   ]
  },
  {
   "cell_type": "code",
   "execution_count": null,
   "metadata": {},
   "outputs": [],
   "source": []
  }
 ],
 "metadata": {
  "kernelspec": {
   "display_name": "Python 3",
   "language": "python",
   "name": "python3"
  },
  "language_info": {
   "codemirror_mode": {
    "name": "ipython",
    "version": 3
   },
   "file_extension": ".py",
   "mimetype": "text/x-python",
   "name": "python",
   "nbconvert_exporter": "python",
   "pygments_lexer": "ipython3",
   "version": "3.9.6"
  }
 },
 "nbformat": 4,
 "nbformat_minor": 2
}
