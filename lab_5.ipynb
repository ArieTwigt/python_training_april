{
 "cells": [
  {
   "cell_type": "code",
   "execution_count": 11,
   "metadata": {},
   "outputs": [
    {
     "name": "stdout",
     "output_type": "stream",
     "text": [
      "Helaas\n",
      "Cola\n",
      "Rest van de code\n"
     ]
    }
   ],
   "source": [
    "age = 55\n",
    "\n",
    "if age > 18:\n",
    "   print(\"Helaas\") \n",
    "   print(\"Cola\")\n",
    "elif age > 88:\n",
    "   print(\"Doe maar niet\")\n",
    "else:\n",
    "   print(\"Alternatief\")\n",
    "\n",
    "print(\"Rest van de code\")"
   ]
  },
  {
   "cell_type": "code",
   "execution_count": null,
   "metadata": {},
   "outputs": [],
   "source": [
    "names_list = ['Dirk', 'Piet', 'Jaap']\n",
    "\n",
    "name = \"Arie\"\n",
    "age = 19\n",
    "\n",
    "if age >= 18 and name not in names_list:"
   ]
  }
 ],
 "metadata": {
  "kernelspec": {
   "display_name": "Python 3",
   "language": "python",
   "name": "python3"
  },
  "language_info": {
   "codemirror_mode": {
    "name": "ipython",
    "version": 3
   },
   "file_extension": ".py",
   "mimetype": "text/x-python",
   "name": "python",
   "nbconvert_exporter": "python",
   "pygments_lexer": "ipython3",
   "version": "3.9.6"
  }
 },
 "nbformat": 4,
 "nbformat_minor": 2
}
